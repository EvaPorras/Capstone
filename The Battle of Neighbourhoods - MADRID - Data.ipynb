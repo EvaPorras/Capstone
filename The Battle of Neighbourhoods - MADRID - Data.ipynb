{
    "nbformat_minor": 1, 
    "cells": [
        {
            "source": "# Capstone Project - The Battle of the Neighborhoods\n###  Veterinary Clinic in Madrid, Spain\n#### Applied Data Science Capstone by IBM/Coursera", 
            "cell_type": "markdown", 
            "metadata": {}
        }, 
        {
            "source": "## Introduction: Business Problem", 
            "cell_type": "markdown", 
            "metadata": {}
        }, 
        {
            "source": "In this project we will try to find an optimal location for a veterinary clinic in Madrid, Spain.\n\n\"Loneliness in cities is one of the causes of the 40% increase in the number of pets in Spain in the last five years.\" El Pais, May 17, 2019.\nThis is a general understanding and one of the first objectives of the problem is checking the number of pets (dogs and cats) in Madrid and confirm the ascending trend. Also we will analyse those boroughs with highest increase ratios.\n\nOn the other hand, we will analyze the number of pets per neighborhood and the number of veterinarians to detect those neighborhoods with the highest ratios of pets per veterinarian (i.e. with more needing of locating a new facility). \n\nWith these two criteria we will cluster the neighbourhoods to detect the most promissing neighborhoods to install a new veterinary clinic (and the most \"saturated\" neighbourhood to avoid). This information is fundamental for a veterinarian who decide to open a new veterinarian clinic in Madrid.", 
            "cell_type": "markdown", 
            "metadata": {}
        }, 
        {
            "source": "## Data\n\nBased on the definition of the problem, factors that will influence our decission are:\n\n- increase in the number of pets\n- number of pets in the neighbourhood,\n- number of veterinary clinics in the neighbourhood\n   \n\nFollowing data sources will be needed to extract/generate the required information:\n\n- name and location of the boroughs and neighbourhoods of Madrid obtained from City Hall Public Data Web\n- number of pets obtained from City Hall Public Data Web in the last five years. As the number of pets is published per borough, we use the proportion of population to distribute the number of pets per neighbourhood. \n- number of veterinaries in every neighborhood will be obtained also from the City Hall Public Data Web since not so much venues are registered in the Foursquare API yet. So it is not appropiate to use in Madrid (checking of this is included in the analisys).\n\n", 
            "cell_type": "markdown", 
            "metadata": {}
        }
    ], 
    "metadata": {
        "kernelspec": {
            "display_name": "Python 3.6", 
            "name": "python3", 
            "language": "python"
        }, 
        "language_info": {
            "mimetype": "text/x-python", 
            "nbconvert_exporter": "python", 
            "version": "3.6.8", 
            "name": "python", 
            "file_extension": ".py", 
            "pygments_lexer": "ipython3", 
            "codemirror_mode": {
                "version": 3, 
                "name": "ipython"
            }
        }
    }, 
    "nbformat": 4
}