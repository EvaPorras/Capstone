{
    "nbformat_minor": 1, 
    "cells": [
        {
            "source": "# Capstone Project - The Battle of the Neighborhoods\n###  Veterinary Clinic in Madrid, Spain\n#### Applied Data Science Capstone by IBM/Coursera", 
            "cell_type": "markdown", 
            "metadata": {}
        }, 
        {
            "source": "## Introduction: Business Problem", 
            "cell_type": "markdown", 
            "metadata": {}
        }, 
        {
            "source": "For a veterinarian who decides to open a new veterinarian clinic in Madrid, Spain it is very important to know the distribution of pets and veterinarian clinics in the neighbourhoods of Madrid to find an optimal location for the new facility.\n\nWe will analyze the number of pets per neighborhood and the number of veterinarians to detect those neighborhoods with the highest ratios of pets per veterinarian (i.e. with more needing of locating a new facility).\n\nOn the other hand, it is also important to check the ascending trend of the number of pets in Madrid in the last five years and analyze those boroughs with highest increase ratios.\n\nWith these two criteria we will cluster the neighbourhoods to detect the most promising neighborhoods to install a new veterinary clinic (and the most \"saturated\" neighbourhood to avoid). ", 
            "cell_type": "markdown", 
            "metadata": {}
        }, 
        {
            "source": "## Data\n\nBased on the definition of the problem, factors that will influence our decission are:\n\n- increase in the number of pets in the last 5 years\n- number of pets in the neighbourhood,\n- number of veterinary clinics in the neighbourhood\n   \n\nFollowing data sources will be needed to extract/generate the required information:\n\n- name and location of the boroughs and neighbourhoods of Madrid: City Hall Public Data web publishes the street guide including numbering of all urban premises (206866 premises). We will extract the name of the boroughs, neighbourhoods and their location.\n\n- number of pets in the last five years: City Hall Public Data web publishes the number of dogs and cats per borough in the last 5 years. We will extract the increase of the number of total pets per borough. On the other hand, since the number of pets is published per borough, we use the proportion of population to distribute the number of pets per neighbourhood.\n\n- number of veterinary in every neighborhood: City Hall Public Data web publishes the active venues in Madrid (163251 venues). We will extract the number of veterinary clinics per neighbourhood.\n\n(Note:I have decided not to use the Foursquare API since not so much venues are registered in application yet. A checking of this is included in the code)\n\nAs final dataframe we will have per each neighbourhood:\n- Borough\n- Location: Latitude and Longitude\n- Total Number of pets\n- Increase of the number of pets in the last 5 years\n- Number of veterinarian clinics\n- Ratio pets/vet\n", 
            "cell_type": "markdown", 
            "metadata": {}
        }, 
        {
            "execution_count": 1, 
            "cell_type": "code", 
            "metadata": {}, 
            "outputs": [], 
            "source": "# The code was removed by Watson Studio for sharing."
        }, 
        {
            "execution_count": null, 
            "cell_type": "code", 
            "metadata": {}, 
            "outputs": [
                {
                    "output_type": "stream", 
                    "name": "stdout", 
                    "text": "Solving environment: done\n\n# All requested packages already installed.\n\nSolving environment: / "
                }
            ], 
            "source": "import numpy as np # library to handle data in a vectorized manner\n\nimport pandas as pd # library for data analsysis\npd.set_option('display.max_columns', None)\npd.set_option('display.max_rows', None)\n\nimport json # library to handle JSON files\n\n!conda install -c conda-forge geopy --yes \nfrom geopy.geocoders import Nominatim # convert an address into latitude and longitude values\n\nimport requests # library to handle requests\nfrom pandas.io.json import json_normalize # tranform JSON file into a pandas dataframe\n\n# Matplotlib and associated plotting modules\nimport matplotlib.cm as cm\nimport matplotlib.colors as colors\n\n# import k-means from clustering stage\nfrom sklearn.cluster import KMeans\n\n!conda install -c conda-forge folium=0.5.0 --yes \nimport folium # map rendering library\n\nprint('Libraries imported.')\n"
        }, 
        {
            "source": "## 1. Download and Explore Dataset - Map of Neighbourhoods", 
            "cell_type": "markdown", 
            "metadata": {}
        }, 
        {
            "source": "The City Hall of Madrid Web publishes a big amount of public data of the city.\n\nData Source: City Hall Public Data web https://datos.madrid.es/portal/site/egob\n", 
            "cell_type": "markdown", 
            "metadata": {}
        }, 
        {
            "execution_count": null, 
            "cell_type": "code", 
            "metadata": {}, 
            "outputs": [], 
            "source": "# From the street directoty of the city, it is extracted the list of boroughs, neighbourhoods and location\ndf=pd.read_csv(project.get_file('CALLEJERO_VIGENTE_NUMERACIONES_201908.csv'), sep=';', encoding = \"ISO-8859-1\")\ndf.head(5)"
        }, 
        {
            "execution_count": null, 
            "cell_type": "code", 
            "metadata": {}, 
            "outputs": [], 
            "source": "# it is a very big dataframe\ndf.shape"
        }, 
        {
            "execution_count": null, 
            "cell_type": "code", 
            "metadata": {}, 
            "outputs": [], 
            "source": "# Only the 6 columns required are selected\nnames = list(df.columns)\nnames[6]='Borough Code'\nnames[7]='Borough'\nnames[8]='Neighbourhood Code'\nnames[9]='Neighbourhood'\nnames[18] = 'Longitude'\nnames[19] = 'Latitude'\ndf.columns = names\ndf=df[['Borough Code','Borough','Neighbourhood Code','Neighbourhood','Longitude','Latitude']]\ndf.head()"
        }, 
        {
            "execution_count": null, 
            "cell_type": "code", 
            "metadata": {}, 
            "outputs": [], 
            "source": "# table index for the borough codes is created to be used later\ncodigos_distrito=df[['Borough Code','Borough']].drop_duplicates().sort_values(['Borough Code'])\ncodigos_distrito=codigos_distrito.reset_index(drop=True)\ncodigos_distrito"
        }, 
        {
            "execution_count": null, 
            "cell_type": "code", 
            "metadata": {}, 
            "outputs": [], 
            "source": "#coordinates transforming function definition\ndef latDD(x): \n    D = int(x[:x.find('\u00ba')]) \n    M = int(x[x.find('\u00ba')+1:x.find(\"'\")]) \n    S = float(x[x.find(\"'\")+1:x.find(\"''\")]) \n    DD = D + float(M)/60 + float(S)/3600\n    return DD\n\ndef lonDD(x): \n    D = int(x[:x.find('\u00ba')]) \n    M = int(x[x.find('\u00ba')+1:x.find(\"'\")]) \n    S = float(x[x.find(\"'\")+1:x.find(\"''\")]) \n    DD = -(D + float(M)/60 + float(S)/3600)\n    return DD"
        }, 
        {
            "execution_count": null, 
            "cell_type": "code", 
            "metadata": {}, 
            "outputs": [], 
            "source": "#coordinates transforming function aplication\ncolumnas=list(df.columns)\ndf['Longitude']=df['Longitude'].apply(lonDD)\ndf['Latitude']=df['Latitude'].apply(latDD)\ndf.head()"
        }, 
        {
            "execution_count": null, 
            "cell_type": "code", 
            "metadata": {}, 
            "outputs": [], 
            "source": "#grouping by neighbourhood and reordering columns\ndf=df.groupby(['Neighbourhood']).mean()\ndf=df.reset_index()\ndf=df.join(codigos_distrito.set_index('Borough Code'), on='Borough Code')\ncolumnas=df.columns.tolist()\ncolumnas= columnas[1:2] + columnas[-1:]+ columnas[2:3]+columnas[0:1]+columnas[3:5]\ndf=df[columnas]\ndf=df.sort_values(['Borough Code', 'Neighbourhood Code'])\ndf=df.reset_index(drop=True)\ndf"
        }, 
        {
            "execution_count": null, 
            "cell_type": "code", 
            "metadata": {}, 
            "outputs": [], 
            "source": "# calculate number of boroughs and neighbourhoods\nprint('Madrid has {} boroughs and {} neighbourhoods.'.format(\n        len(df['Borough'].unique()),\n        df.shape[0]\n    )\n)"
        }, 
        {
            "source": "### Map of Madrid Neighbourhoods", 
            "cell_type": "markdown", 
            "metadata": {}
        }, 
        {
            "execution_count": null, 
            "cell_type": "code", 
            "metadata": {}, 
            "outputs": [], 
            "source": "address = 'Madrid'\n\ngeolocator = Nominatim(user_agent=\"ny_explorer\")\nlocation = geolocator.geocode(address)\nlatitude = location.latitude\nlongitude = location.longitude\nprint('The geograpical coordinate of Madrid are {}, {}.'.format(latitude, longitude))"
        }, 
        {
            "execution_count": null, 
            "cell_type": "code", 
            "metadata": {
                "scrolled": true
            }, 
            "outputs": [], 
            "source": "# create map of Madrid using latitude and longitude values\nmap_madrid = folium.Map(location=[latitude, longitude], zoom_start=10)\n\n# add markers to map\nfor lat, lng, borough, neighbourhood in zip(df['Latitude'], df['Longitude'], df['Borough'], df['Neighbourhood']):\n    label = '{}, {}'.format(neighbourhood, borough)\n    label = folium.Popup(label, parse_html=True)\n    folium.CircleMarker(\n        [lat, lng],\n        radius=5,\n        popup=label,\n        color='blue',\n        fill=True,\n        fill_color='#3186cc',\n        fill_opacity=0.7,\n        parse_html=False).add_to(map_madrid)  \n    \nmap_madrid"
        }, 
        {
            "source": "## 2. Explore Neighbourhoods in Madrid - via FourSquare", 
            "cell_type": "markdown", 
            "metadata": {}
        }, 
        {
            "source": "Analisys of data fron Madrid obtained form FourSquare application", 
            "cell_type": "markdown", 
            "metadata": {}
        }, 
        {
            "execution_count": null, 
            "cell_type": "code", 
            "metadata": {}, 
            "outputs": [], 
            "source": "LIMIT = 100 # limit of number of venues returned by Foursquare API\n\nradius = 500 # define radius\n\nCLIENT_ID = 'I2JEH30YZ5DWC4DQBZAY05XPA3QR3JLCGB0KDB4B34B3XEXM' # your Foursquare ID\nCLIENT_SECRET = 'IQJUV2X3DXB0E0EQ4VE4TCNHTIEGZ3O5OQ2S5I2RHAGXIMVG' # your Foursquare Secret\nVERSION = '20180605' # Foursquare API version\n\nprint('Your credentails:')\nprint('CLIENT_ID: ' + CLIENT_ID)\nprint('CLIENT_SECRET:' + CLIENT_SECRET)"
        }, 
        {
            "execution_count": null, 
            "cell_type": "code", 
            "metadata": {}, 
            "outputs": [], 
            "source": "def getNearbyVenues(names, latitudes, longitudes, radius=500):\n    \n    venues_list=[]\n    for name, lat, lng in zip(names, latitudes, longitudes):\n        print(name)\n            \n        # create the API request URL\n        url = 'https://api.foursquare.com/v2/venues/explore?&client_id={}&client_secret={}&v={}&ll={},{}&radius={}&limit={}'.format(\n            CLIENT_ID, \n            CLIENT_SECRET, \n            VERSION, \n            lat, \n            lng, \n            radius, \n            LIMIT)\n            \n        # make the GET request\n        results = requests.get(url).json()[\"response\"]['groups'][0]['items']\n        \n        # return only relevant information for each nearby venue\n        venues_list.append([(\n            name, \n            lat, \n            lng, \n            v['venue']['name'], \n            v['venue']['location']['lat'], \n            v['venue']['location']['lng'],  \n            v['venue']['categories'][0]['name']) for v in results])\n\n    nearby_venues = pd.DataFrame([item for venue_list in venues_list for item in venue_list])\n    nearby_venues.columns = ['Neighbourhood', \n                  'Neighbourhood Latitude', \n                  'Neighbourhood Longitude', \n                  'Venue', \n                  'Venue Latitude', \n                  'Venue Longitude', \n                  'Venue Category']\n    \n    return(nearby_venues)"
        }, 
        {
            "execution_count": null, 
            "cell_type": "code", 
            "metadata": {}, 
            "outputs": [], 
            "source": "madrid_venues = getNearbyVenues(names=df['Neighbourhood'],\n                                   latitudes=df['Latitude'],\n                                   longitudes=df['Longitude']\n                                  )\n"
        }, 
        {
            "execution_count": null, 
            "cell_type": "code", 
            "metadata": {}, 
            "outputs": [], 
            "source": "print(madrid_venues.shape)\nmadrid_venues.head()"
        }, 
        {
            "execution_count": null, 
            "cell_type": "code", 
            "metadata": {}, 
            "outputs": [], 
            "source": "print('Foursquare application has {} registered venues in Madrid.'.format(\n        madrid_venues.shape[0]\n    )\n)"
        }, 
        {
            "execution_count": null, 
            "cell_type": "code", 
            "metadata": {}, 
            "outputs": [], 
            "source": "# Musseum del Prado is one of the most important venues in the city of Madrid and one of the most important\n# picture musseum in the world. Lets check if Musseum del Prado is included in the venues od Madrid\nmadrid_venues[madrid_venues['Venue']=='%Prado']"
        }, 
        {
            "execution_count": null, 
            "cell_type": "code", 
            "metadata": {}, 
            "outputs": [], 
            "source": "madrid_venues[madrid_venues['Venue Category']=='Museum']"
        }, 
        {
            "source": "The total number of museums in the city of Madrid according to the City Council is around 70 (away from the 10 FourSquares records) that include, of course, the Prado Museum, the Thyssen-Bornemisza Museum, the Reina Sof\u00eda Museum, etc. . It is for this reason, that I consider that the FourSquare application does not yet have enough records for the city of Madrid. For the rest of the Capstone I will use the City Hall Public data web of Madrid. ", 
            "cell_type": "markdown", 
            "metadata": {}
        }, 
        {
            "source": "## 3. Explore Neighbourhoods in Madrid - via City Hall Public Data", 
            "cell_type": "markdown", 
            "metadata": {}
        }, 
        {
            "source": "Data Source: City Hall Public Data web https://datos.madrid.es/portal/site/egob", 
            "cell_type": "markdown", 
            "metadata": {}
        }, 
        {
            "source": "As we are interesting in installing a new veterinary clinic, we analyse first the increase of the number of pets.", 
            "cell_type": "markdown", 
            "metadata": {}
        }, 
        {
            "execution_count": null, 
            "cell_type": "code", 
            "metadata": {}, 
            "outputs": [], 
            "source": "# In the file \"Censo animales.csv\" we have the total number of pets per Borough and the increase in the last 5 years\npets=pd.read_csv(project.get_file('Censo animales .csv'), sep=';', encoding = \"ISO-8859-1\")\nnames = list(pets.columns)\nnames[0]='Year'\nnames[1]='Borough_code'\nnames[2]='Borough'\nnames[3]='Dogs'\nnames[4]='Cats'\npets.columns = names\npets['Total_pets']=pets['Dogs']+pets['Cats']\n\npets.head(30)\n"
        }, 
        {
            "execution_count": null, 
            "cell_type": "code", 
            "metadata": {}, 
            "outputs": [], 
            "source": "#pivot table to analyse the number of pets per borough and year\npets=pets.pivot_table('Total_pets',['Borough_code','Borough'],'Year')\npets=pets.rename_axis(None, axis=1).reset_index()\n\n# calculation of the increase in the number of pets per borough in the last five years\npets['Inc_5_y (%)']=(pets[2018]/pets[2014]-1)*100\npets=pets.round({'Inc_5_y (%)': 1})\n\n\npets"
        }, 
        {
            "execution_count": null, 
            "cell_type": "code", 
            "metadata": {}, 
            "outputs": [], 
            "source": "# select only required columns\npets=pets[['Borough_code','Borough',2018,'Inc_5_y (%)']]\nnames=list(pets.columns)\nnames[2]='Total_pets'\npets.columns = names\npets\n"
        }, 
        {
            "execution_count": null, 
            "cell_type": "code", 
            "metadata": {}, 
            "outputs": [], 
            "source": "print('There are {} registered pets in Madrid.'.format(\n        pets['Total_pets'].sum()\n    )\n)\n\nprint('The increase of the number of pets in the last 5 years in Madrid is {}%.'.format(\n        round(pets['Inc_5_y (%)'].mean(),1)\n    )\n)"
        }, 
        {
            "execution_count": null, 
            "cell_type": "code", 
            "metadata": {}, 
            "outputs": [], 
            "source": "# as we have the number of pets per borough, we use the proportion of population to distribute the number of pets\n# per neighbourhood. First we download the population file from the City Hall Public web\npopulation=pd.read_csv(project.get_file('Rango_Edades_Seccion_201908.csv'), sep=';', encoding = \"ISO-8859-1\")\nnames = list(population.columns)\nnames[0]='Borough_code'\nnames[1]='Borough'\nnames[2]='Neighbourhood_code'\nnames[3]='Neighbourhood'\nnames[8]='SpanishMen'\nnames[9]='SpanishWomen'\nnames[10]='OtherMen'\nnames[11]='OtherWomen'\npopulation.columns = names\npopulation=population.fillna(0)\npopulation['Total_Pop_Neighbourhood']=population['SpanishMen']+population['SpanishWomen']+population['OtherMen']+population['OtherWomen']\npopulation.head()"
        }, 
        {
            "execution_count": null, 
            "cell_type": "code", 
            "metadata": {}, 
            "outputs": [], 
            "source": "# the population per neighbourhood\npop_neigh=population.pivot_table('Total_Pop_Neighbourhood',['Borough_code','Borough','Neighbourhood_code','Neighbourhood'],aggfunc='sum')\npop_neigh=pop_neigh.rename_axis(None, axis=1).reset_index()\npop_neigh"
        }, 
        {
            "execution_count": null, 
            "cell_type": "code", 
            "metadata": {}, 
            "outputs": [], 
            "source": "# the population per borough\npop_bor=population.pivot_table('Total_Pop_Neighbourhood',['Borough_code'],aggfunc='sum')\npop_bor=pop_bor.rename_axis(None, axis=1).reset_index()\npop_bor.rename(columns={'Total_Pop_Neighbourhood': 'Total_Pop_Bor'}, inplace=True)\npop_bor"
        }, 
        {
            "execution_count": null, 
            "cell_type": "code", 
            "metadata": {}, 
            "outputs": [], 
            "source": "# pets and population per borough\npets=pets.set_index('Borough_code').join(pop_bor.set_index('Borough_code') )\npets=pets.rename_axis(None, axis=1).reset_index()\npets=pets.drop('Borough',axis=1)\npets"
        }, 
        {
            "execution_count": null, 
            "cell_type": "code", 
            "metadata": {}, 
            "outputs": [], 
            "source": "# distribution of pets per neighbourhood\npets=pop_neigh.set_index('Borough_code').join(pets.set_index('Borough_code') )\npets=pets.rename_axis(None, axis=1).reset_index()\npets.rename(columns={'Total_pets': 'Total_Pets_Borough'}, inplace=True)\npets['Total_Pets_Neighbourhood']=pets['Total_Pets_Borough']/pets['Total_Pop_Bor']*pets['Total_Pop_Neighbourhood']\npets=pets.round({'Total_Pets_Neighbourhood': 0})\npets=pets.drop('Borough',axis=1)\npets=pets.set_index('Neighbourhood').join(df.set_index('Neighbourhood') )\npets=pets.rename_axis(None, axis=1).reset_index()\npets=pets.iloc[:, [0,9,11,12,7,5]] \n\npets"
        }, 
        {
            "execution_count": null, 
            "cell_type": "code", 
            "metadata": {}, 
            "outputs": [], 
            "source": "# download venues from the City Hall Data Web\nvets=pd.read_csv(project.get_file('OPEN DATA Locales-Epigrafes201907.csv'), sep=';', encoding = \"ISO-8859-1\", low_memory=False)\nvets.head()"
        }, 
        {
            "execution_count": null, 
            "cell_type": "code", 
            "metadata": {}, 
            "outputs": [], 
            "source": "vets.shape"
        }, 
        {
            "execution_count": null, 
            "cell_type": "code", 
            "metadata": {}, 
            "outputs": [], 
            "source": "# counting the veterinary clinic per neighbourhood\nvets.rename(columns={'desc_barrio_local': 'Neighbourhood','desc_division': 'Activity' }, inplace=True)\nvets=vets[['Neighbourhood','Activity' ]]\nvets.head()\nvets=vets[vets['Activity'].str.contains(\"VETERINARIAS\")==True] \nvets=vets['Neighbourhood'].value_counts()\nvets=pd.DataFrame(vets)\nvets=vets.rename_axis(None, axis=1).reset_index()\nnames = list(vets.columns)\nnames[0]='Neighbourhood'\nnames[1]='Number_of_Vets'\nvets.columns = names\nvets"
        }, 
        {
            "execution_count": null, 
            "cell_type": "code", 
            "metadata": {}, 
            "outputs": [], 
            "source": "print('There are {} Veterinary Clinics in Madrid.'.format(\n        vets['Number_of_Vets'].sum()\n    )\n)\n\n\n"
        }, 
        {
            "execution_count": null, 
            "cell_type": "code", 
            "metadata": {}, 
            "outputs": [], 
            "source": "# joining pets per neighbourhood + vets data\nfinal_df=pets.set_index('Neighbourhood').join(vets.set_index('Neighbourhood') )\nfinal_df=final_df.rename_axis(None, axis=1).reset_index()\nfinal_df.head()\nfinal_df=final_df.fillna(0)\nfinal_df['pets/vet'] = 0\ncondition = final_df['Number_of_Vets'] > 0\nfinal_df.loc[condition, 'pets/vet'] = final_df['Total_Pets_Neighbourhood']/final_df['Number_of_Vets']\nfinal_df.loc[~condition, 'pets/vet'] = final_df['Total_Pets_Neighbourhood']\nfinal_df=final_df.round({'pets/vet': 0})\nfinal_df"
        }, 
        {
            "source": "## 4. Cluster Neighbourhoods", 
            "cell_type": "markdown", 
            "metadata": {}
        }, 
        {
            "execution_count": null, 
            "cell_type": "code", 
            "metadata": {}, 
            "outputs": [], 
            "source": "# clustering neighbourhood by increase in the last 5 years and ratio pets/vet\n\nmadrid_grouped_clustering = final_df.drop(['Neighbourhood','Borough','Longitude','Latitude','Total_Pets_Neighbourhood','Number_of_Vets'], 1)\n\nfrom sklearn import preprocessing\n\nscaler = preprocessing.StandardScaler().fit(madrid_grouped_clustering)\n\nmadrid_grouped_clustering=scaler.transform(madrid_grouped_clustering) "
        }, 
        {
            "source": "Application of Elbow Method to determine the optimal K number", 
            "cell_type": "markdown", 
            "metadata": {}
        }, 
        {
            "execution_count": null, 
            "cell_type": "code", 
            "metadata": {}, 
            "outputs": [], 
            "source": "# optimize number of clusters\nks = 10\ninertia_clusters = list()\n\nfor i in range(1,ks):\n        # Object KMeans\n        kmeans=KMeans(n_clusters=i, random_state=0).fit(madrid_grouped_clustering)\n\n        # Obtain inertia\n        inertia_clusters.append([i, kmeans.inertia_])\n"
        }, 
        {
            "execution_count": null, 
            "cell_type": "code", 
            "metadata": {}, 
            "outputs": [], 
            "source": "import matplotlib.pyplot as plt\nx, y = zip(*[inertia for inertia in inertia_clusters])\nplt.plot(x, y, 'ro-', markersize=8, lw=2)\nplt.xlabel('Num Clusters')\nplt.ylabel('Inertia')\nplt.show()\n"
        }, 
        {
            "source": "According to the plot, the optimal number of clusters is set in 4", 
            "cell_type": "markdown", 
            "metadata": {}
        }, 
        {
            "execution_count": null, 
            "cell_type": "code", 
            "metadata": {}, 
            "outputs": [], 
            "source": "# set number of clusters\nkclusters = 4\n\n# run k-means clustering\nkmeans = KMeans(n_clusters=kclusters, random_state=0).fit(madrid_grouped_clustering)\n\n# check cluster labels generated for each row in the dataframe\nkmeans.labels_[0:10] "
        }, 
        {
            "execution_count": null, 
            "cell_type": "code", 
            "metadata": {}, 
            "outputs": [], 
            "source": "# add clustering labels\n\nmadrid_grouped_sorted=final_df\n\nmadrid_grouped_sorted.insert(0, 'Cluster Labels', kmeans.labels_)\n\nmadrid_grouped_sorted\n"
        }, 
        {
            "execution_count": null, 
            "cell_type": "code", 
            "metadata": {}, 
            "outputs": [], 
            "source": "# create map\nmap_clusters = folium.Map(location=[latitude, longitude], zoom_start=11)\n\n# set color scheme for the clusters\nx = np.arange(kclusters)\nys = [i + x + (i*x)**2 for i in range(kclusters)]\ncolors_array = cm.rainbow(np.linspace(0, 1, len(ys)))\nrainbow = [colors.rgb2hex(i) for i in colors_array]\n\n# add markers to the map\nmarkers_colors = []\nfor lat, lon, poi, cluster in zip(madrid_grouped_sorted['Latitude'], madrid_grouped_sorted['Longitude'], madrid_grouped_sorted['Neighbourhood'], madrid_grouped_sorted['Cluster Labels']):\n    label = folium.Popup(str(poi) + ' Cluster ' + str(cluster), parse_html=True)\n    folium.CircleMarker(\n        [lat, lon],\n        radius=5,\n        popup=label,\n        color=rainbow[int(cluster)-1],\n        fill=True,\n        fill_color=rainbow[int(cluster)-1],\n        fill_opacity=0.7).add_to(map_clusters)\n       \nmap_clusters"
        }, 
        {
            "source": "#### Cluster 0", 
            "cell_type": "markdown", 
            "metadata": {}
        }, 
        {
            "execution_count": null, 
            "cell_type": "code", 
            "metadata": {}, 
            "outputs": [], 
            "source": "madrid_cluster_0=madrid_grouped_sorted.loc[madrid_grouped_sorted['Cluster Labels'] == 0, madrid_grouped_sorted.columns[[1] + list(range(5, madrid_grouped_sorted.shape[1]))]]\nmadrid_cluster_0"
        }, 
        {
            "execution_count": null, 
            "cell_type": "code", 
            "metadata": {}, 
            "outputs": [], 
            "source": "madrid_cluster_0.describe()"
        }, 
        {
            "source": "These 4 neighbourhoods are located in boroughs with a high increase in the number of pets in the last 5 years and with a high ratio pets/vets. The neighbourhoods included in this cluster are preferential to install a new veterinary clinic.", 
            "cell_type": "markdown", 
            "metadata": {}
        }, 
        {
            "source": "#### Cluster 1", 
            "cell_type": "markdown", 
            "metadata": {}
        }, 
        {
            "execution_count": null, 
            "cell_type": "code", 
            "metadata": {}, 
            "outputs": [], 
            "source": "madrid_cluster_1=madrid_grouped_sorted.loc[madrid_grouped_sorted['Cluster Labels'] == 1, madrid_grouped_sorted.columns[[1] + list(range(5, madrid_grouped_sorted.shape[1]))]]\nmadrid_cluster_1"
        }, 
        {
            "execution_count": null, 
            "cell_type": "code", 
            "metadata": {}, 
            "outputs": [], 
            "source": "madrid_cluster_1.describe()"
        }, 
        {
            "source": "These 65 neighbourhoods are located in boroughs with a low increase in the number of pets in the last 5 years and with very low ratio pets/vets. The neighbourhoods included in this cluster are the worst to install a new veterinary clinic.", 
            "cell_type": "markdown", 
            "metadata": {}
        }, 
        {
            "source": "#### Cluster 2", 
            "cell_type": "markdown", 
            "metadata": {}
        }, 
        {
            "execution_count": null, 
            "cell_type": "code", 
            "metadata": {}, 
            "outputs": [], 
            "source": "madrid_cluster_2=madrid_grouped_sorted.loc[madrid_grouped_sorted['Cluster Labels'] == 2, madrid_grouped_sorted.columns[[1] + list(range(5, madrid_grouped_sorted.shape[1]))]]\nmadrid_cluster_2"
        }, 
        {
            "execution_count": null, 
            "cell_type": "code", 
            "metadata": {}, 
            "outputs": [], 
            "source": "madrid_cluster_2.describe()"
        }, 
        {
            "source": "These 25 neighbourhoods are located in boroughs with a low increase in the number of pets in the last 5 years but  with high ratio pets/vets. The neighbourhoods included in this cluster are good location to install a new veterinary clinic yet.", 
            "cell_type": "markdown", 
            "metadata": {}
        }, 
        {
            "source": "#### Cluster 3", 
            "cell_type": "markdown", 
            "metadata": {}
        }, 
        {
            "execution_count": null, 
            "cell_type": "code", 
            "metadata": {}, 
            "outputs": [], 
            "source": "madrid_cluster_3 = madrid_grouped_sorted.loc[madrid_grouped_sorted['Cluster Labels'] == 3, madrid_grouped_sorted.columns[[1] + list(range(5, madrid_grouped_sorted.shape[1]))]]\nmadrid_cluster_3"
        }, 
        {
            "execution_count": null, 
            "cell_type": "code", 
            "metadata": {}, 
            "outputs": [], 
            "source": "madrid_cluster_3.describe()"
        }, 
        {
            "source": "These 37 neighbourhoods are located in boroughs with a high increase in the number of pets in the last 5 years but  with a low ratio pets/vets. The neighbourhoods included in this cluster are not good location to install a new veterinary clinic at the present but can be studied at the future to see how the increase evolves.", 
            "cell_type": "markdown", 
            "metadata": {}
        }
    ], 
    "metadata": {
        "kernelspec": {
            "display_name": "Python 3.6", 
            "name": "python3", 
            "language": "python"
        }, 
        "language_info": {
            "mimetype": "text/x-python", 
            "nbconvert_exporter": "python", 
            "version": "3.6.8", 
            "name": "python", 
            "file_extension": ".py", 
            "pygments_lexer": "ipython3", 
            "codemirror_mode": {
                "version": 3, 
                "name": "ipython"
            }
        }
    }, 
    "nbformat": 4
}