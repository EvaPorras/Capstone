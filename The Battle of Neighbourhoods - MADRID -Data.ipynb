{
    "nbformat_minor": 1, 
    "cells": [
        {
            "source": "# Capstone Project - The Battle of the Neighborhoods\n###  Veterinary Clinic in Madrid, Spain\n#### Applied Data Science Capstone by IBM/Coursera", 
            "cell_type": "markdown", 
            "metadata": {}
        }, 
        {
            "source": "## Introduction: Business Problem", 
            "cell_type": "markdown", 
            "metadata": {}
        }, 
        {
            "source": "For a veterinarian who decide to open a new veterinarian clinic in Madrid it is very important to know the distribution of pets and veterinarian clinics in the neighbourhoods of Madrid, Spain to find an optimal location for the new facility.\n\nWe will analyze the number of pets per neighborhood and the number of veterinarians to detect those neighborhoods with the highest ratios of pets per veterinarian (i.e. with more needing of locating a new facility).\n\nOn the other hand, it is also important to check the ascending trend of the number of pets in Madrid in the last five years and analyze those boroughs with highest increase ratios.\n\nWith these two criteria we will cluster the neighbourhoods to detect the most promising neighborhoods to install a new veterinary clinic (and the most \"saturated\" neighbourhood to avoid). ", 
            "cell_type": "markdown", 
            "metadata": {}
        }, 
        {
            "source": "## Data\n\nBased on the definition of the problem, factors that will influence our decission are:\n\n- increase in the number of pets in the last 5 years\n- number of pets in the neighbourhood,\n- number of veterinary clinics in the neighbourhood\n   \n\nFollowing data sources will be needed to extract/generate the required information:\n\n- name and location of the boroughs and neighbourhoods of Madrid: City Hall Public Data web publishes the street guide including numbering of all urban premises (206866 premises). We will extract the name of the boroughs, neighbourhoods and their location.\n\n- number of pets in the last five years: City Hall Public Data web publishes the number of dogs and cats per borough in the last 5 years. We will extract the increase of the number of total pets per borough. On the other hand, since the number of pets is published per borough, we use the proportion of population to distribute the number of pets per neighbourhood.\n\n- number of veterinary in every neighborhood: City Hall Public Data web publishes the active venues in Madrid (163251 venues). We will extract the number of veterinary clinics per neighbourhood.\n\n(Note:I have decided not to use the Foursquare API since not so much venues are registered in application yet. A checking of this is included in the code)\n\nAs final dataframe we will have per each neighbourhood:\n- Borough\n- Location: Latitude and Longitude\n- Total Number of pets\n- Increase of the number of pets in the last 5 years\n- Number of veterinarian clinics\n- Ratio pets/vet\n", 
            "cell_type": "markdown", 
            "metadata": {}
        }
    ], 
    "metadata": {
        "kernelspec": {
            "display_name": "Python 3.6", 
            "name": "python3", 
            "language": "python"
        }, 
        "language_info": {
            "mimetype": "text/x-python", 
            "nbconvert_exporter": "python", 
            "version": "3.6.8", 
            "name": "python", 
            "file_extension": ".py", 
            "pygments_lexer": "ipython3", 
            "codemirror_mode": {
                "version": 3, 
                "name": "ipython"
            }
        }
    }, 
    "nbformat": 4
}